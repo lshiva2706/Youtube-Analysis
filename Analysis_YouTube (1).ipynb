{
 "cells": [
  {
   "cell_type": "markdown",
   "metadata": {
    "id": "T5sWSqWR3u6G"
   },
   "source": [
    "#***`Trending YouTube Video Analysis..!`***\n",
    "\n",
    "\n",
    "---\n",
    "\n",
    "\n",
    "\n",
    "A vast analysis of various aspects in the world of YouTube, with detailed and informative plots, lots of fun insights and some magic of machine learning, trying to answer as many questions as possible.\n",
    "\n",
    "What questions we posed ourselves?\n",
    "\n",
    "\n",
    "1.   What are the most famous channels?\n",
    "2.   What are the most liked videos?\n",
    "3.   What are the most hated videos?\n",
    "4. Which country has the most videos posted?\n",
    "5. What are the top 10 videos in each category based on views?\n",
    "6. How do views vary over the days of the week?(Weekend vs weekdays)\t\n",
    "\n",
    "and many more ....\n",
    "\n",
    "\n",
    "\n",
    "---\n",
    "\n",
    "\n",
    "\n",
    "> Language: Python\n",
    "\n",
    "\n",
    "> Algorithms: Random forest, Decision Tree, XGB Boost Guassian and KNN classifiers\n",
    "\n",
    "\n",
    "\n",
    "\n",
    "> Methods used: Classification, Ensemble Learning Methods.\n",
    "\n",
    "\n",
    "> Predictions: Missing Categories of Videos\n",
    "\n",
    "\n",
    "\n",
    "\n",
    "\n",
    "\n",
    "\n",
    "\n",
    "\n",
    "\n",
    "\n",
    "\n",
    "\n",
    "---\n",
    "\n",
    "\n",
    "\n",
    "\n",
    "\n"
   ]
  },
  {
   "cell_type": "code",
   "execution_count": 9,
   "metadata": {},
   "outputs": [
    {
     "data": {
      "text/plain": [
       "'C:\\\\Users\\\\vkothu2\\\\DS Project'"
      ]
     },
     "execution_count": 9,
     "metadata": {},
     "output_type": "execute_result"
    }
   ],
   "source": [
    "%pwd"
   ]
  },
  {
   "cell_type": "code",
   "execution_count": 3,
   "metadata": {},
   "outputs": [],
   "source": [
    "import pandas as pd"
   ]
  },
  {
   "cell_type": "code",
   "execution_count": 48,
   "metadata": {
    "id": "IDL8b7w-7Ck3"
   },
   "outputs": [],
   "source": [
    "dir = \"C:/DS/Trending_YouTube_Videos_Analysis-main/archive\"#Directory of datasets\n",
    "model_dir = \"C:/Users/vkothu2/DS Project\"#Directory of models"
   ]
  },
  {
   "cell_type": "markdown",
   "metadata": {
    "id": "RqKM8UMkYSd0"
   },
   "source": [
    "##Importing Required Libraries"
   ]
  },
  {
   "cell_type": "code",
   "execution_count": 12,
   "metadata": {
    "id": "jsTlmI6-WyJW"
   },
   "outputs": [
    {
     "name": "stderr",
     "output_type": "stream",
     "text": [
      "C:\\Users\\vkothu2\\AppData\\Local\\Temp\\ipykernel_10996\\3327491529.py:20: DeprecationWarning:\n",
      "\n",
      "Importing display from IPython.core.display is deprecated since IPython 7.14, please import from IPython display\n",
      "\n"
     ]
    }
   ],
   "source": [
    "import os\n",
    "import re\n",
    "import csv\n",
    "import sys\n",
    "import json\n",
    "import plotly\n",
    "import pickle\n",
    "import datetime\n",
    "import numpy as np\n",
    "import pandas as pd\n",
    "import seaborn as sns\n",
    "from math import log10\n",
    "from io import StringIO\n",
    "from matplotlib import cm\n",
    "import plotly.express as px \n",
    "import plotly.graph_objs as go \n",
    "import plotly.offline as pyoff\n",
    "import matplotlib.pyplot as plt\n",
    "from warnings import simplefilter\n",
    "from IPython.core.display import HTML,display\n",
    "from plotly.offline import download_plotlyjs, init_notebook_mode, plot, iplot"
   ]
  },
  {
   "cell_type": "code",
   "execution_count": 33,
   "metadata": {
    "id": "oiqrjQblDEP7"
   },
   "outputs": [],
   "source": [
    "import xgboost\n",
    "from xgboost import XGBClassifier\n",
    "from sklearn.metrics import accuracy_score\n",
    "from sklearn.naive_bayes import MultinomialNB\n",
    "from sklearn.ensemble import VotingClassifier\n",
    "from sklearn.tree import DecisionTreeClassifier\n",
    "from sklearn.ensemble import AdaBoostClassifier\n",
    "from sklearn.model_selection import GridSearchCV\n",
    "from sklearn.neighbors import KNeighborsClassifier\n",
    "from sklearn.ensemble import RandomForestClassifier\n",
    "from sklearn.model_selection import train_test_split\n",
    "from sklearn.feature_extraction.text import CountVectorizer"
   ]
  },
  {
   "cell_type": "code",
   "execution_count": 34,
   "metadata": {
    "colab": {
     "base_uri": "https://localhost:8080/",
     "height": 17
    },
    "id": "Au4GnQbqy8-h",
    "outputId": "1fa78c1f-7454-47d8-ad9c-809e1df7875c"
   },
   "outputs": [
    {
     "data": {
      "text/html": [
       "        <script type=\"text/javascript\">\n",
       "        window.PlotlyConfig = {MathJaxConfig: 'local'};\n",
       "        if (window.MathJax) {MathJax.Hub.Config({SVG: {font: \"STIX-Web\"}});}\n",
       "        if (typeof require !== 'undefined') {\n",
       "        require.undef(\"plotly\");\n",
       "        requirejs.config({\n",
       "            paths: {\n",
       "                'plotly': ['https://cdn.plot.ly/plotly-2.9.0.min']\n",
       "            }\n",
       "        });\n",
       "        require(['plotly'], function(Plotly) {\n",
       "            window._Plotly = Plotly;\n",
       "        });\n",
       "        }\n",
       "        </script>\n",
       "        "
      ]
     },
     "metadata": {},
     "output_type": "display_data"
    }
   ],
   "source": [
    "%matplotlib inline\n",
    "simplefilter(action='ignore', category=FutureWarning)\n",
    "simplefilter(action='ignore', category=UserWarning)\n",
    "simplefilter(action='ignore', category=RuntimeWarning)\n",
    "init_notebook_mode(connected=True)"
   ]
  },
  {
   "cell_type": "code",
   "execution_count": 36,
   "metadata": {},
   "outputs": [
    {
     "name": "stdout",
     "output_type": "stream",
     "text": [
      "Collecting wordcloud\n",
      "  Downloading wordcloud-1.8.2.2-cp39-cp39-win_amd64.whl (153 kB)\n",
      "Requirement already satisfied: numpy>=1.6.1 in c:\\users\\vkothu2\\anaconda3\\lib\\site-packages (from wordcloud) (1.21.5)\n",
      "Requirement already satisfied: matplotlib in c:\\users\\vkothu2\\anaconda3\\lib\\site-packages (from wordcloud) (3.5.1)\n",
      "Requirement already satisfied: pillow in c:\\users\\vkothu2\\anaconda3\\lib\\site-packages (from wordcloud) (9.0.1)\n",
      "Requirement already satisfied: cycler>=0.10 in c:\\users\\vkothu2\\anaconda3\\lib\\site-packages (from matplotlib->wordcloud) (0.11.0)\n",
      "Requirement already satisfied: packaging>=20.0 in c:\\users\\vkothu2\\anaconda3\\lib\\site-packages (from matplotlib->wordcloud) (21.3)\n",
      "Requirement already satisfied: pyparsing>=2.2.1 in c:\\users\\vkothu2\\anaconda3\\lib\\site-packages (from matplotlib->wordcloud) (3.0.4)\n",
      "Requirement already satisfied: fonttools>=4.22.0 in c:\\users\\vkothu2\\anaconda3\\lib\\site-packages (from matplotlib->wordcloud) (4.25.0)\n",
      "Requirement already satisfied: python-dateutil>=2.7 in c:\\users\\vkothu2\\anaconda3\\lib\\site-packages (from matplotlib->wordcloud) (2.8.2)\n",
      "Requirement already satisfied: kiwisolver>=1.0.1 in c:\\users\\vkothu2\\anaconda3\\lib\\site-packages (from matplotlib->wordcloud) (1.3.2)\n",
      "Requirement already satisfied: six>=1.5 in c:\\users\\vkothu2\\anaconda3\\lib\\site-packages (from python-dateutil>=2.7->matplotlib->wordcloud) (1.16.0)\n",
      "Installing collected packages: wordcloud\n",
      "Successfully installed wordcloud-1.8.2.2\n"
     ]
    }
   ],
   "source": [
    "!pip install wordcloud"
   ]
  },
  {
   "cell_type": "code",
   "execution_count": 37,
   "metadata": {
    "colab": {
     "base_uri": "https://localhost:8080/"
    },
    "id": "mSSa_RMYkvD-",
    "outputId": "c4762b62-ac89-47eb-c190-6d3e78f9e5e3"
   },
   "outputs": [
    {
     "name": "stderr",
     "output_type": "stream",
     "text": [
      "[nltk_data] Downloading package punkt to\n",
      "[nltk_data]     C:\\Users\\vkothu2\\AppData\\Roaming\\nltk_data...\n",
      "[nltk_data]   Package punkt is already up-to-date!\n",
      "[nltk_data] Downloading package stopwords to\n",
      "[nltk_data]     C:\\Users\\vkothu2\\AppData\\Roaming\\nltk_data...\n",
      "[nltk_data]   Package stopwords is already up-to-date!\n",
      "[nltk_data] Downloading package vader_lexicon to\n",
      "[nltk_data]     C:\\Users\\vkothu2\\AppData\\Roaming\\nltk_data...\n",
      "[nltk_data]   Package vader_lexicon is already up-to-date!\n"
     ]
    }
   ],
   "source": [
    "import nltk\n",
    "nltk.download('punkt')\n",
    "nltk.download('stopwords')\n",
    "nltk.download('vader_lexicon')\n",
    "from collections import Counter\n",
    "from wordcloud import WordCloud\n",
    "from nltk.corpus import stopwords\n",
    "from nltk.tokenize import RegexpTokenizer\n",
    "from wordcloud import WordCloud, STOPWORDS\n",
    "from nltk import sent_tokenize, word_tokenize\n",
    "from nltk.sentiment import SentimentIntensityAnalyzer"
   ]
  },
  {
   "cell_type": "markdown",
   "metadata": {
    "id": "GXVI9RcjLcSh"
   },
   "source": [
    "A function which has the css styling for plots"
   ]
  },
  {
   "cell_type": "code",
   "execution_count": 39,
   "metadata": {
    "id": "xQD3WToXsM8M"
   },
   "outputs": [],
   "source": [
    "def set_css():\n",
    "  return display(HTML(\"\"\"<style>\n",
    "  #output-body {\n",
    "    display: flex;\n",
    "    align-items: center;\n",
    "    justify-content: center;\n",
    "    background-color:white;\n",
    "    color:black;\n",
    "    }\n",
    "  .output_text pre{\n",
    "    margin-right : 70px;\n",
    "    color: black;\n",
    "    font-weight: bold;\n",
    "    /* font-size: 10px; */\n",
    "  }\n",
    "\n",
    "}  </style>\"\"\"))"
   ]
  },
  {
   "cell_type": "markdown",
   "metadata": {
    "id": "m5_yWwrODSFI"
   },
   "source": [
    "#Data Exploration"
   ]
  },
  {
   "cell_type": "markdown",
   "metadata": {
    "id": "S6vZNRi91vMs"
   },
   "source": [
    "##Data Processing"
   ]
  },
  {
   "cell_type": "code",
   "execution_count": 40,
   "metadata": {
    "id": "Z6p70r9Rot8Q"
   },
   "outputs": [],
   "source": [
    "def process_date_attributes(data):\n",
    "  data[\"publish_time\"] = pd.to_datetime(data[\"publish_time\"])\n",
    "  data[\"trending_date\"] = pd.to_datetime(data[\"trending_date\"],format=\"%y.%d.%m\")\n",
    "  data[\"trend_year\"]=data[\"trending_date\"].apply(lambda time:time.year)\n",
    "  data[\"trend_date\"] = data[\"trending_date\"].apply(lambda time: time.day)\n",
    "  data[\"trend_month\"]=data[\"trending_date\"].apply(lambda time:time.month)\n",
    "  data[\"publish_year\"]=data[\"publish_time\"].apply(lambda time:time.year)\n",
    "  data[\"publish_month\"]=data[\"publish_time\"].apply(lambda time:time.month)\n",
    "  data[\"publish_day\"]=data[\"publish_time\"].apply(lambda time:time.day)\n",
    "  data[\"publish_weekday\"]=data[\"publish_time\"].apply(lambda time:time.dayofweek)\n",
    "  data[\"publish_hour\"]=data[\"publish_time\"].apply(lambda time:time.hour)\n",
    "  return data"
   ]
  },
  {
   "cell_type": "code",
   "execution_count": 41,
   "metadata": {
    "id": "m_VzmTLBBdn2"
   },
   "outputs": [],
   "source": [
    "def match_categories(x,dictionary): #function to get the categories\n",
    "    try:\n",
    "        return dictionary[str(x)]\n",
    "    except:\n",
    "        return \"Unknown\""
   ]
  },
  {
   "cell_type": "markdown",
   "metadata": {
    "id": "k-OkorSq10s1"
   },
   "source": [
    "##Data Cleaning"
   ]
  },
  {
   "cell_type": "code",
   "execution_count": 42,
   "metadata": {
    "id": "3mpQIOPz10Ws"
   },
   "outputs": [],
   "source": [
    "def data_cleaning(data):\n",
    "  if data['description'].isnull().sum()>0:\n",
    "    data['description'] = data['description'].replace(np.nan,\"\") #Replacing the NaN values in the \"Description\" column with an empty string\n",
    "  data = data.sort_values('video_id').drop_duplicates(subset=['trending_date', 'title'], keep='last')\n",
    "  data = data.drop(columns=[\"publish_time\",\"category_id\"],axis=1)\n",
    "  return data"
   ]
  },
  {
   "cell_type": "markdown",
   "metadata": {
    "id": "f-bO_ZZl5wxq"
   },
   "source": [
    "##Loading the datasets"
   ]
  },
  {
   "cell_type": "code",
   "execution_count": 43,
   "metadata": {
    "id": "bNTt_yKxbf1O"
   },
   "outputs": [],
   "source": [
    "def load_data(file_path): \n",
    "    ch_file=file_path\n",
    "    Country_code = ch_file[0:2]\n",
    "    path=os.path.join(dir,ch_file)\n",
    "    input_df=pd.read_csv(path,encoding='mbcs')\n",
    "    title_dict={}\n",
    "    json_path=os.path.join(dir,(Country_code+str('_category_id.json')))\n",
    "    json_input_df=pd.read_json(json_path)\n",
    "    input_df['region']=Country_code\n",
    "    for dict_a in json_input_df['items']:\n",
    "        title_dict[dict_a['id']]=dict_a['snippet']['title'] \n",
    "\n",
    "    input_df = process_date_attributes(input_df) #Calling the function to process the date columns.\n",
    "    input_df['category']=input_df['category_id'].apply(match_categories,args=(title_dict,))\n",
    "    input_df = data_cleaning(input_df)\n",
    "    return input_df"
   ]
  },
  {
   "cell_type": "code",
   "execution_count": 44,
   "metadata": {
    "colab": {
     "base_uri": "https://localhost:8080/",
     "height": 151
    },
    "id": "vYhLfsK1fMDy",
    "outputId": "a94cfc2b-2d6e-43d1-bbfe-b077402a5798"
   },
   "outputs": [
    {
     "data": {
      "text/html": [
       "<style>\n",
       "  #output-body {\n",
       "    display: flex;\n",
       "    align-items: center;\n",
       "    justify-content: center;\n",
       "    background-color:white;\n",
       "    color:black;\n",
       "    }\n",
       "  .output_text pre{\n",
       "    margin-right : 70px;\n",
       "    color: black;\n",
       "    font-weight: bold;\n",
       "    /* font-size: 10px; */\n",
       "  }\n",
       "\n",
       "}  </style>"
      ],
      "text/plain": [
       "<IPython.core.display.HTML object>"
      ]
     },
     "metadata": {},
     "output_type": "display_data"
    },
    {
     "name": "stdout",
     "output_type": "stream",
     "text": [
      "................................\n",
      "------Created CA DataFrame------\n",
      "------Created DE DataFrame------\n",
      "------Created FR DataFrame------\n",
      "------Created GB DataFrame------\n",
      "------Created IN DataFrame------\n",
      "------Created JP DataFrame------\n",
      "------Created KR DataFrame------\n",
      "------Created MX DataFrame------\n",
      "------Created RU DataFrame------\n",
      "------Created US DataFrame------\n",
      "Processed all available Datasets\n"
     ]
    }
   ],
   "source": [
    "set_css()\n",
    "con_list = []\n",
    "cons_dict = {}\n",
    "t_df = pd.DataFrame()\n",
    "for dirname, _, filenames in os.walk(dir):\n",
    "    print(\"................................\")\n",
    "    for paths in filenames:\n",
    "        if paths.lower().endswith(\".csv\"):\n",
    "          con_list.append(paths[0:2])\n",
    "          x = load_data(paths)\n",
    "          globals()[str(paths[0:2])] = x\n",
    "          cons_dict[str(paths[0:2])]=x\n",
    "          print(\"------Created\",paths[0:2],\"DataFrame------\")\n",
    "    print(\"Processed all available Datasets\")"
   ]
  },
  {
   "cell_type": "markdown",
   "metadata": {
    "id": "BQ6rIn3HEKED"
   },
   "source": [
    "##Checking and filling the missing categories"
   ]
  },
  {
   "cell_type": "code",
   "execution_count": 45,
   "metadata": {
    "colab": {
     "base_uri": "https://localhost:8080/"
    },
    "id": "kFSfaQ7RGS3U",
    "outputId": "41bcdeb8-e1a2-4789-b84e-bf0533031694"
   },
   "outputs": [
    {
     "name": "stdout",
     "output_type": "stream",
     "text": [
      "CA 74\n",
      "DE 256\n",
      "FR 114\n",
      "GB 90\n",
      "IN 103\n",
      "JP 13\n",
      "KR 268\n",
      "MX 252\n",
      "RU 1539\n",
      "US 0\n"
     ]
    }
   ],
   "source": [
    "for i,j in cons_dict.items():\n",
    "  print(i,j[j.category==\"Unknown\"].value_counts().sum())"
   ]
  },
  {
   "cell_type": "code",
   "execution_count": 49,
   "metadata": {
    "id": "fVlJ7vYipf8U"
   },
   "outputs": [],
   "source": [
    "def get_unique_categ(data):\n",
    "  cat_x = data['category'].unique()\n",
    "  cat_y = list(cat_x)\n",
    "  dictc = {}\n",
    "  for i in range(0,len(cat_y)):\n",
    "    dictc[i] = cat_y[i]\n",
    "  return dictc,cat_x"
   ]
  },
  {
   "cell_type": "code",
   "execution_count": 50,
   "metadata": {
    "colab": {
     "base_uri": "https://localhost:8080/"
    },
    "id": "EOmQQtQoD-X8",
    "outputId": "8031426c-08eb-4889-c93f-1f0c5e4eb965"
   },
   "outputs": [
    {
     "name": "stderr",
     "output_type": "stream",
     "text": [
      "  0%|          | 0/10 [00:00<?, ?it/s]"
     ]
    },
    {
     "name": "stdout",
     "output_type": "stream",
     "text": [
      "\n",
      "----------Filling in unknowns for CA ----------\n",
      "\n"
     ]
    },
    {
     "name": "stderr",
     "output_type": "stream",
     "text": [
      " 10%|█         | 1/10 [00:17<02:33, 17.06s/it]"
     ]
    },
    {
     "name": "stdout",
     "output_type": "stream",
     "text": [
      "\n",
      "----------Filling in unknowns for DE ----------\n",
      "\n"
     ]
    },
    {
     "name": "stderr",
     "output_type": "stream",
     "text": [
      " 20%|██        | 2/10 [00:51<03:38, 27.27s/it]"
     ]
    },
    {
     "name": "stdout",
     "output_type": "stream",
     "text": [
      "\n",
      "----------Filling in unknowns for FR ----------\n",
      "\n"
     ]
    },
    {
     "name": "stderr",
     "output_type": "stream",
     "text": [
      " 30%|███       | 3/10 [01:11<02:48, 24.08s/it]"
     ]
    },
    {
     "name": "stdout",
     "output_type": "stream",
     "text": [
      "\n",
      "----------Filling in unknowns for GB ----------\n",
      "\n"
     ]
    },
    {
     "name": "stderr",
     "output_type": "stream",
     "text": [
      " 40%|████      | 4/10 [01:26<02:02, 20.36s/it]"
     ]
    },
    {
     "name": "stdout",
     "output_type": "stream",
     "text": [
      "\n",
      "----------Filling in unknowns for IN ----------\n",
      "\n"
     ]
    },
    {
     "name": "stderr",
     "output_type": "stream",
     "text": [
      " 50%|█████     | 5/10 [01:41<01:33, 18.64s/it]"
     ]
    },
    {
     "name": "stdout",
     "output_type": "stream",
     "text": [
      "\n",
      "----------Filling in unknowns for JP ----------\n",
      "\n"
     ]
    },
    {
     "name": "stderr",
     "output_type": "stream",
     "text": [
      " 60%|██████    | 6/10 [01:46<00:55, 13.99s/it]"
     ]
    },
    {
     "name": "stdout",
     "output_type": "stream",
     "text": [
      "\n",
      "----------Filling in unknowns for KR ----------\n",
      "\n"
     ]
    },
    {
     "name": "stderr",
     "output_type": "stream",
     "text": [
      " 70%|███████   | 7/10 [02:12<00:52, 17.61s/it]"
     ]
    },
    {
     "name": "stdout",
     "output_type": "stream",
     "text": [
      "\n",
      "----------Filling in unknowns for MX ----------\n",
      "\n"
     ]
    },
    {
     "name": "stderr",
     "output_type": "stream",
     "text": [
      " 80%|████████  | 8/10 [02:44<00:44, 22.31s/it]"
     ]
    },
    {
     "name": "stdout",
     "output_type": "stream",
     "text": [
      "\n",
      "----------Filling in unknowns for RU ----------\n",
      "\n"
     ]
    },
    {
     "name": "stderr",
     "output_type": "stream",
     "text": [
      "100%|██████████| 10/10 [04:46<00:00, 28.68s/it]\n"
     ]
    },
    {
     "name": "stdout",
     "output_type": "stream",
     "text": [
      "\n",
      "----------filled all unknowns in category----------\n",
      "................................\n",
      "tdf  is the cumulative DataFrame\n"
     ]
    }
   ],
   "source": [
    "from tqdm import tqdm\n",
    "def fill_categ_unknown():\n",
    "  t_list = [] \n",
    "  con_dict={}\n",
    "  for con,cdf in tqdm(cons_dict.items()):\n",
    "    if con!=\"US\":\n",
    "      cv_path = os.path.join(model_dir,(con+'_vector.pkl'))\n",
    "      em_path = os.path.join(model_dir,(con+'_model.pkl'))\n",
    "      vector = pickle.load(open(cv_path, 'rb'))\n",
    "      model = pickle.load(open(em_path, 'rb'))\n",
    "      cat_a,_ = get_unique_categ(cdf)\n",
    "      print(\"\\n----------Filling in unknowns for\",con,\"----------\\n\")\n",
    "      for index,row in cdf.iterrows():\n",
    "        if row[\"category\"]==\"Unknown\":\n",
    "          t=row[\"title\"]\n",
    "          t=[t]\n",
    "          txc = vector.transform(t)\n",
    "          pred = model.predict(txc)\n",
    "          pred = list(pred)[0]\n",
    "          cdf.at[index,'category'] = cat_a[pred]\n",
    "      t_list.append(cdf)\n",
    "      cdf = cdf.drop(columns=['video_id','region'],axis=1)\n",
    "      globals()[con]=cdf\n",
    "      con_dict[con] = cdf\n",
    "    else:\n",
    "      t_list.append(cdf)\n",
    "      cdf = cdf.drop(columns=['video_id','region'],axis=1)\n",
    "      globals()[con]=cdf\n",
    "      con_dict[con] = cdf\n",
    "  print(\"\\n----------filled all unknowns in category----------\")\n",
    "  return t_list,cons_dict\n",
    "t_list,con_dict= fill_categ_unknown()\n",
    "t_df = pd.concat(t_list,ignore_index=True)\n",
    "tdf = t_df\n",
    "tdf.name = \"The 6 Countries\"\n",
    "print(\"................................\")\n",
    "print(\"tdf  is the cumulative DataFrame\")"
   ]
  },
  {
   "cell_type": "code",
   "execution_count": 51,
   "metadata": {
    "colab": {
     "base_uri": "https://localhost:8080/"
    },
    "id": "S2M0-eaRD-Hi",
    "outputId": "1eb5d83a-a57d-4e80-8c6d-970954af8671"
   },
   "outputs": [
    {
     "name": "stdout",
     "output_type": "stream",
     "text": [
      "CA 0\n",
      "DE 0\n",
      "FR 0\n",
      "GB 0\n",
      "IN 0\n",
      "JP 0\n",
      "KR 1\n",
      "MX 0\n",
      "RU 4\n",
      "US 0\n"
     ]
    }
   ],
   "source": [
    "for i,j in con_dict.items():\n",
    "  print(i,j[j.category==\"Unknown\"].value_counts().sum())"
   ]
  },
  {
   "cell_type": "markdown",
   "metadata": {
    "id": "YbPUV2_d49C1"
   },
   "source": [
    "##Select a Region\n"
   ]
  },
  {
   "cell_type": "code",
   "execution_count": 52,
   "metadata": {
    "colab": {
     "base_uri": "https://localhost:8080/",
     "height": 134
    },
    "id": "NShiqjx3_NIq",
    "outputId": "1c0995b7-eab3-44dc-c3ac-c3bf083ca8fa"
   },
   "outputs": [
    {
     "name": "stdout",
     "output_type": "stream",
     "text": [
      "Available Countries for analysis -> ['CA', 'DE', 'FR', 'GB', 'IN', 'JP', 'KR', 'MX', 'RU', 'US']\n",
      "\n",
      "\n",
      "Choose one country for using it all through analysis or hit enter\n",
      "IN\n",
      "\n",
      "The analysis will be done on IN and it is stored as -> df\n"
     ]
    }
   ],
   "source": [
    "try:\n",
    "  print(\"Available Countries for analysis ->\",con_list)\n",
    "  print(\"\\n\")\n",
    "  x=input(prompt=\"Choose one country for using it all through analysis or hit enter\\n\")\n",
    "  x = x.upper()\n",
    "  1/len(x)\n",
    "  df = con_dict[x]\n",
    "  df.name = x\n",
    "  print(\"\\nThe analysis will be done on\",x,\"and it is stored as -> df\")\n",
    "except:\n",
    "  print(\"\\nPlease don't forget to input required country\")"
   ]
  },
  {
   "cell_type": "code",
   "execution_count": 53,
   "metadata": {
    "colab": {
     "base_uri": "https://localhost:8080/",
     "height": 35
    },
    "id": "EZf4lj26BnPJ",
    "outputId": "4ed05f30-4c40-468e-9a8a-7785381cf3b1"
   },
   "outputs": [
    {
     "data": {
      "text/plain": [
       "'IN'"
      ]
     },
     "execution_count": 53,
     "metadata": {},
     "output_type": "execute_result"
    }
   ],
   "source": [
    "df.name"
   ]
  },
  {
   "cell_type": "markdown",
   "metadata": {
    "id": "V9kmXVF2E3vK"
   },
   "source": [
    "#Analysis"
   ]
  },
  {
   "cell_type": "markdown",
   "metadata": {
    "id": "EbX0xRzBpf4d"
   },
   "source": [
    "###Helper Functions"
   ]
  },
  {
   "cell_type": "code",
   "execution_count": 54,
   "metadata": {
    "id": "GQMrB3poVsJn"
   },
   "outputs": [],
   "source": [
    "global countries  \n",
    "countries = list(tdf.region.unique())"
   ]
  },
  {
   "cell_type": "code",
   "execution_count": 55,
   "metadata": {
    "id": "vWQ1AaiS2QYc"
   },
   "outputs": [],
   "source": [
    "def show_values_on_bars(axs, h_v=\"v\",*args):\n",
    "    def show_on_single_plot(ax):\n",
    "        if h_v == \"v\":\n",
    "            for p in ax.patches:\n",
    "                  x = p.get_x() + p.get_width() / 2 \n",
    "                  y = p.get_y() + p.get_height() /8\n",
    "                  value = int(p.get_height())\n",
    "                  ax.text(x, y, value, ha=\"center\",rotation=90) \n",
    "        elif h_v == \"h\":\n",
    "            for p in ax.patches:\n",
    "              if len(args)==0:\n",
    "                x = p.get_x() + p.get_width() /2\n",
    "                y = p.get_y() + p.get_height() /2\n",
    "                value = int(p.get_width())\n",
    "                ax.text(x, y, value, ha=\"left\",va=\"center\")\n",
    "              else:\n",
    "                x = p.get_x() + p.get_width() +0.4\n",
    "                y = p.get_y() + p.get_height() /2\n",
    "                value = int(p.get_width())\n",
    "                ax.text(x, y, value, ha=\"left\",va=\"center\")\n",
    "    if isinstance(axs, np.ndarray):\n",
    "        for idx, ax in np.ndenumerate(axs):\n",
    "            show_on_single_plot(ax)\n",
    "    else:\n",
    "        show_on_single_plot(axs)"
   ]
  },
  {
   "cell_type": "code",
   "execution_count": 56,
   "metadata": {
    "id": "sGNbUYnbuywB"
   },
   "outputs": [],
   "source": [
    "months_choices = {}\n",
    "global months_choices\n",
    "for i in range(1,13):\n",
    "    months_choices[i] = datetime.date(2008, i, 1).strftime('%B')"
   ]
  },
  {
   "cell_type": "code",
   "execution_count": 57,
   "metadata": {
    "id": "RUDd09SKRf2Z"
   },
   "outputs": [],
   "source": [
    "dict_cat,cat_x=get_unique_categ(df)"
   ]
  },
  {
   "cell_type": "markdown",
   "metadata": {
    "id": "9QKzJ2WsFr5a"
   },
   "source": [
    "##Correlation Analysis"
   ]
  },
  {
   "cell_type": "code",
   "execution_count": 58,
   "metadata": {
    "colab": {
     "base_uri": "https://localhost:8080/",
     "height": 605
    },
    "id": "gXzST6UhE1fS",
    "outputId": "dc8be41a-b7fb-4f17-b0a7-c130f9d63091"
   },
   "outputs": [
    {
     "data": {
      "text/html": [
       "<style>\n",
       "  #output-body {\n",
       "    display: flex;\n",
       "    align-items: center;\n",
       "    justify-content: center;\n",
       "    background-color:white;\n",
       "    color:black;\n",
       "    }\n",
       "  .output_text pre{\n",
       "    margin-right : 70px;\n",
       "    color: black;\n",
       "    font-weight: bold;\n",
       "    /* font-size: 10px; */\n",
       "  }\n",
       "\n",
       "}  </style>"
      ],
      "text/plain": [
       "<IPython.core.display.HTML object>"
      ]
     },
     "metadata": {},
     "output_type": "display_data"
    },
    {
     "data": {
      "image/png": "[encoded data removed]",
      "text/plain": [
       "<Figure size 720x720 with 2 Axes>"
      ]
     },
     "metadata": {
      "needs_background": "light"
     },
     "output_type": "display_data"
    }
   ],
   "source": [
    "set_css()\n",
    "def correlation_heatmap(data):\n",
    "    correlations = data.corr()\n",
    "    correlations = correlations[((correlations >= 0.75) | (correlations <= -0.75))]\n",
    "    fig, ax = plt.subplots(figsize=(10,10))\n",
    "    sns.heatmap(correlations, vmax=1.0, center=0, fmt='.2f', square=True, linewidths=.5, annot=True, cbar_kws={\"shrink\": .70})\n",
    "    plt.show();  \n",
    "correlation_heatmap(df)"
   ]
  },
  {
   "cell_type": "code",
   "execution_count": 59,
   "metadata": {
    "colab": {
     "base_uri": "https://localhost:8080/",
     "height": 225
    },
    "id": "284NmKRkTjM8",
    "outputId": "7005e966-9ee4-4506-bd9a-6f35d865e618"
   },
   "outputs": [
    {
     "data": {
      "text/html": [
       "<div>\n",
       "<style scoped>\n",
       "    .dataframe tbody tr th:only-of-type {\n",
       "        vertical-align: middle;\n",
       "    }\n",
       "\n",
       "    .dataframe tbody tr th {\n",
       "        vertical-align: top;\n",
       "    }\n",
       "\n",
       "    .dataframe thead th {\n",
       "        text-align: right;\n",
       "    }\n",
       "</style>\n",
       "<table border=\"1\" class=\"dataframe\">\n",
       "  <thead>\n",
       "    <tr style=\"text-align: right;\">\n",
       "      <th></th>\n",
       "      <th>views</th>\n",
       "      <th>likes</th>\n",
       "      <th>dislikes</th>\n",
       "      <th>comment_count</th>\n",
       "      <th>ratings_disabled</th>\n",
       "      <th>comments_disabled</th>\n",
       "    </tr>\n",
       "  </thead>\n",
       "  <tbody>\n",
       "    <tr>\n",
       "      <th>views</th>\n",
       "      <td>1.000000</td>\n",
       "      <td>0.854842</td>\n",
       "      <td>0.556635</td>\n",
       "      <td>0.697010</td>\n",
       "      <td>-0.032930</td>\n",
       "      <td>-0.032683</td>\n",
       "    </tr>\n",
       "    <tr>\n",
       "      <th>likes</th>\n",
       "      <td>0.854842</td>\n",
       "      <td>1.000000</td>\n",
       "      <td>0.506870</td>\n",
       "      <td>0.791501</td>\n",
       "      <td>-0.038644</td>\n",
       "      <td>-0.043621</td>\n",
       "    </tr>\n",
       "    <tr>\n",
       "      <th>dislikes</th>\n",
       "      <td>0.556635</td>\n",
       "      <td>0.506870</td>\n",
       "      <td>1.000000</td>\n",
       "      <td>0.744129</td>\n",
       "      <td>-0.013396</td>\n",
       "      <td>-0.010600</td>\n",
       "    </tr>\n",
       "    <tr>\n",
       "      <th>comment_count</th>\n",
       "      <td>0.697010</td>\n",
       "      <td>0.791501</td>\n",
       "      <td>0.744129</td>\n",
       "      <td>1.000000</td>\n",
       "      <td>-0.022561</td>\n",
       "      <td>-0.030734</td>\n",
       "    </tr>\n",
       "    <tr>\n",
       "      <th>ratings_disabled</th>\n",
       "      <td>-0.032930</td>\n",
       "      <td>-0.038644</td>\n",
       "      <td>-0.013396</td>\n",
       "      <td>-0.022561</td>\n",
       "      <td>1.000000</td>\n",
       "      <td>0.359199</td>\n",
       "    </tr>\n",
       "    <tr>\n",
       "      <th>comments_disabled</th>\n",
       "      <td>-0.032683</td>\n",
       "      <td>-0.043621</td>\n",
       "      <td>-0.010600</td>\n",
       "      <td>-0.030734</td>\n",
       "      <td>0.359199</td>\n",
       "      <td>1.000000</td>\n",
       "    </tr>\n",
       "  </tbody>\n",
       "</table>\n",
       "</div>"
      ],
      "text/plain": [
       "                      views     likes  dislikes  comment_count  \\\n",
       "views              1.000000  0.854842  0.556635       0.697010   \n",
       "likes              0.854842  1.000000  0.506870       0.791501   \n",
       "dislikes           0.556635  0.506870  1.000000       0.744129   \n",
       "comment_count      0.697010  0.791501  0.744129       1.000000   \n",
       "ratings_disabled  -0.032930 -0.038644 -0.013396      -0.022561   \n",
       "comments_disabled -0.032683 -0.043621 -0.010600      -0.030734   \n",
       "\n",
       "                   ratings_disabled  comments_disabled  \n",
       "views                     -0.032930          -0.032683  \n",
       "likes                     -0.038644          -0.043621  \n",
       "dislikes                  -0.013396          -0.010600  \n",
       "comment_count             -0.022561          -0.030734  \n",
       "ratings_disabled           1.000000           0.359199  \n",
       "comments_disabled          0.359199           1.000000  "
      ]
     },
     "execution_count": 59,
     "metadata": {},
     "output_type": "execute_result"
    }
   ],
   "source": [
    "l = [\"views\",\"likes\",\"dislikes\",\"comment_count\",\"ratings_disabled\",\"comments_disabled\"]\n",
    "corr = df[l].corr()\n",
    "corr"
   ]
  },
  {
   "cell_type": "markdown",
   "metadata": {
    "id": "ukFIgjgGZWK5"
   },
   "source": [
    "So from the data its evident that (views,likes) are well correlated, and (likes,comment_count) are well correlated"
   ]
  },
  {
   "cell_type": "code",
   "execution_count": 60,
   "metadata": {
    "colab": {
     "base_uri": "https://localhost:8080/",
     "height": 84
    },
    "id": "0EF6vQBRVep2",
    "outputId": "579efced-1ae5-498f-9324-fe5e34bd9c8e"
   },
   "outputs": [
    {
     "name": "stdout",
     "output_type": "stream",
     "text": [
      "('views', 'likes')\n",
      "('likes', 'views')\n",
      "('likes', 'comment_count')\n",
      "('comment_count', 'likes')\n"
     ]
    }
   ],
   "source": [
    "for x in corr.columns:\n",
    "  for y in range(corr.shape[0]):\n",
    "    if (corr[x][y] >= 0.75 and corr[x][y]<1):\n",
    "      print((x,corr.columns[y])) "
   ]
  },
  {
   "cell_type": "code",
   "execution_count": 61,
   "metadata": {
    "colab": {
     "base_uri": "https://localhost:8080/",
     "height": 617
    },
    "id": "Af8RcBzwdAvD",
    "outputId": "00a1ce17-587a-4b7f-a683-b1c50512a045"
   },
   "outputs": [
    {
     "data": {
      "text/html": [
       "<style>\n",
       "  #output-body {\n",
       "    display: flex;\n",
       "    align-items: center;\n",
       "    justify-content: center;\n",
       "    background-color:white;\n",
       "    color:black;\n",
       "    }\n",
       "  .output_text pre{\n",
       "    margin-right : 70px;\n",
       "    color: black;\n",
       "    font-weight: bold;\n",
       "    /* font-size: 10px; */\n",
       "  }\n",
       "\n",
       "}  </style>"
      ],
      "text/plain": [
       "<IPython.core.display.HTML object>"
      ]
     },
     "metadata": {},
     "output_type": "display_data"
    },
    {
     "name": "stdout",
     "output_type": "stream",
     "text": [
      "Plots showing the correlation\n",
      "between likes,views,dislikes\n"
     ]
    },
    {
     "data": {
      "image/png": "[encoded data removed]",
      "text/plain": [
       "<Figure size 720x720 with 4 Axes>"
      ]
     },
     "metadata": {
      "needs_background": "light"
     },
     "output_type": "display_data"
    }
   ],
   "source": [
    "set_css()\n",
    "def corr_plot(df):\n",
    "    f,ax=plt.subplots(2,2,figsize=(10,10))\n",
    "    sns.scatterplot(x='views',y='likes', data=df, ax=ax[0][0])\n",
    "    sns.scatterplot(x='comment_count',y='likes', data=df, ax=ax[0][1])\n",
    "    sns.scatterplot(x='dislikes',y='likes', data=df, ax=ax[1][0])\n",
    "    sns.scatterplot(x='comment_count',y='views', data=df, ax=ax[1][1])\n",
    "    print(\"Plots showing the correlation\\nbetween likes,views,dislikes\")\n",
    "corr_plot(US)"
   ]
  },
  {
   "cell_type": "markdown",
   "metadata": {
    "id": "MetmmhD3b2Mr"
   },
   "source": [
    "##EDA w.r.t to Time Series"
   ]
  },
  {
   "cell_type": "code",
   "execution_count": 62,
   "metadata": {
    "colab": {
     "base_uri": "https://localhost:8080/",
     "height": 273
    },
    "id": "-6tw4C3HYla9",
    "outputId": "c56c728c-96e8-46ab-f735-755ff8dc7fba"
   },
   "outputs": [
    {
     "data": {
      "text/html": [
       "<style>\n",
       "  #output-body {\n",
       "    display: flex;\n",
       "    align-items: center;\n",
       "    justify-content: center;\n",
       "    background-color:white;\n",
       "    color:black;\n",
       "    }\n",
       "  .output_text pre{\n",
       "    margin-right : 70px;\n",
       "    color: black;\n",
       "    font-weight: bold;\n",
       "    /* font-size: 10px; */\n",
       "  }\n",
       "\n",
       "}  </style>"
      ],
      "text/plain": [
       "<IPython.core.display.HTML object>"
      ]
     },
     "metadata": {},
     "output_type": "display_data"
    },
    {
     "name": "stdout",
     "output_type": "stream",
     "text": [
      "2018    23297\n",
      "2017     9409\n"
     ]
    },
    {
     "data": {
      "image/png": "[encoded data removed]",
      "text/plain": [
       "<Figure size 432x288 with 1 Axes>"
      ]
     },
     "metadata": {},
     "output_type": "display_data"
    }
   ],
   "source": [
    "set_css()\n",
    "def total_videos_per_year(data):\n",
    "  x = list(data.publish_year.unique())\n",
    "  y = []\n",
    "  for i in x:\n",
    "    y.append(data[data.publish_year==i].value_counts().sum())\n",
    "  if len(x)>6:\n",
    "    fig, ax = plt.subplots()\n",
    "    ax.scatter(x, y)\n",
    "    for i, txt in enumerate(y):\n",
    "      ax.annotate(txt, (x[i], y[i]), xytext=(10,10), textcoords='offset points')\n",
    "      plt.scatter(x, y, marker='o', color='green')\n",
    "  else:\n",
    "    plt.pie(y,labels=x,autopct='%1.2f%%') \n",
    "  print(data[\"publish_year\"].value_counts().to_string())\n",
    "total_videos_per_year(df)"
   ]
  },
  {
   "cell_type": "code",
   "execution_count": 63,
   "metadata": {
    "colab": {
     "base_uri": "https://localhost:8080/",
     "height": 423
    },
    "id": "UoDI1bG9cafH",
    "outputId": "9afbe499-fd34-4377-fe3e-69faf333ecd8"
   },
   "outputs": [
    {
     "data": {
      "text/html": [
       "<style>\n",
       "  #output-body {\n",
       "    display: flex;\n",
       "    align-items: center;\n",
       "    justify-content: center;\n",
       "    background-color:white;\n",
       "    color:black;\n",
       "    }\n",
       "  .output_text pre{\n",
       "    margin-right : 70px;\n",
       "    color: black;\n",
       "    font-weight: bold;\n",
       "    /* font-size: 10px; */\n",
       "  }\n",
       "\n",
       "}  </style>"
      ],
      "text/plain": [
       "<IPython.core.display.HTML object>"
      ]
     },
     "metadata": {},
     "output_type": "display_data"
    },
    {
     "data": {
      "image/png": "[encoded data removed]",
      "text/plain": [
       "<Figure size 1440x576 with 3 Axes>"
      ]
     },
     "metadata": {},
     "output_type": "display_data"
    }
   ],
   "source": [
    "set_css()\n",
    "def removed_stats(data):\n",
    "  al=data.comments_disabled.unique()\n",
    "  leg = ['video_error_or_removed','comments_disabled','ratings_disabled']\n",
    "  data=[list(data.video_error_or_removed.value_counts()),list(data.comments_disabled.value_counts()),list(data.ratings_disabled.value_counts())]\n",
    "  f,axi = plt.subplots(nrows=1,ncols=3)\n",
    "  f.suptitle(\"Stats related to %s\" %(df.name))\n",
    "  f.set_size_inches(20,8)\n",
    "  colors = ['lightskyblue', 'lightcoral']\n",
    "  i=0\n",
    "  for row in range(1):\n",
    "    for col in range(3):\n",
    "      patches=axi[col].pie(data[i],labels=al,autopct='%1.2f%%',colors=colors)\n",
    "      axi[col].set_title(f'{leg[i]}')\n",
    "      i=i+1\n",
    "  plt.legend(al, loc=\"best\")\n",
    "  plt.tight_layout()\n",
    "removed_stats(df)"
   ]
  }
 ],
 "metadata": {
  "colab": {
   "collapsed_sections": [
    "f-bO_ZZl5wxq",
    "YbPUV2_d49C1",
    "EbX0xRzBpf4d",
    "9QKzJ2WsFr5a",
    "MetmmhD3b2Mr",
    "b3jGTYjWrizy",
    "GJgltNfIjfnH",
    "LRXA9wverJE2"
   ],
   "name": "Analysis_YouTube.ipynb",
   "provenance": []
  },
  "kernelspec": {
   "display_name": "Python 3 (ipykernel)",
   "language": "python",
   "name": "python3"
  },
  "language_info": {
   "codemirror_mode": {
    "name": "ipython",
    "version": 3
   },
   "file_extension": ".py",
   "mimetype": "text/x-python",
   "name": "python",
   "nbconvert_exporter": "python",
   "pygments_lexer": "ipython3",
   "version": "3.9.12"
  }
 },
 "nbformat": 4,
 "nbformat_minor": 1
}
