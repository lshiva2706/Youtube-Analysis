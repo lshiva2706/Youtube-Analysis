{
 "cells": [
  {
   "cell_type": "code",
   "execution_count": 1,
   "metadata": {
    "id": "lnMLgnvpYMc8"
   },
   "outputs": [],
   "source": [
    "dir = 'YT_Data\\YT'"
   ]
  },
  {
   "cell_type": "code",
   "execution_count": 2,
   "metadata": {},
   "outputs": [
    {
     "name": "stdout",
     "output_type": "stream",
     "text": [
      "Requirement already satisfied: xgboost in c:\\users\\mvemul2\\anaconda3\\lib\\site-packages (1.6.2)\n",
      "Requirement already satisfied: numpy in c:\\users\\mvemul2\\anaconda3\\lib\\site-packages (from xgboost) (1.21.5)\n",
      "Requirement already satisfied: scipy in c:\\users\\mvemul2\\anaconda3\\lib\\site-packages (from xgboost) (1.7.3)\n"
     ]
    }
   ],
   "source": [
    "!pip install xgboost"
   ]
  },
  {
   "cell_type": "code",
   "execution_count": 3,
   "metadata": {
    "id": "EldWrbU1YfG2"
   },
   "outputs": [
    {
     "name": "stderr",
     "output_type": "stream",
     "text": [
      "C:\\Users\\mvemul2\\AppData\\Local\\Temp\\ipykernel_30668\\4051890243.py:12: DeprecationWarning: Importing display from IPython.core.display is deprecated since IPython 7.14, please import from IPython display\n",
      "  from IPython.core.display import HTML,display\n"
     ]
    }
   ],
   "source": [
    "import numpy as np\n",
    "import pandas as pd\n",
    "import collections,os,json\n",
    "from sklearn.feature_extraction.text import CountVectorizer\n",
    "from sklearn.model_selection import train_test_split\n",
    "from sklearn.metrics import accuracy_score\n",
    "from sklearn.naive_bayes import MultinomialNB\n",
    "from sklearn.ensemble import RandomForestClassifier\n",
    "from sklearn.svm import SVC\n",
    "from sklearn.neighbors import KNeighborsClassifier\n",
    "from sklearn.tree import DecisionTreeClassifier\n",
    "from IPython.core.display import HTML,display\n",
    "from sklearn.ensemble import AdaBoostClassifier\n",
    "import xgboost\n",
    "from xgboost import XGBClassifier\n",
    "from sklearn.model_selection import GridSearchCV\n",
    "from sklearn.ensemble import VotingClassifier\n",
    "from warnings import simplefilter\n",
    "simplefilter(action='ignore', category=FutureWarning)\n",
    "simplefilter(action='ignore', category=UserWarning)\n",
    "simplefilter(action='ignore', category=RuntimeWarning)\n",
    "import pickle"
   ]
  },
  {
   "cell_type": "code",
   "execution_count": 4,
   "metadata": {
    "id": "eS6hCWO_Yg4a"
   },
   "outputs": [],
   "source": [
    "def set_css():\n",
    "      return display(HTML(\"\"\"<style>\n",
    "      #output-body {\n",
    "        display: flex;\n",
    "        align-items: center;\n",
    "        justify-content: center;\n",
    "        background-color:white;\n",
    "        color:black;\n",
    "        }\n",
    "      .output_text pre{\n",
    "        margin-right : 70px;\n",
    "        color: black;\n",
    "        font-weight: bold;\n",
    "        /* font-size: 10px; */\n",
    "      }\n",
    "\n",
    "    }  </style>\"\"\"))"
   ]
  },
  {
   "cell_type": "code",
   "execution_count": null,
   "metadata": {
    "id": "2oExDVsQYmta"
   },
   "outputs": [],
   "source": []
  },
  {
   "cell_type": "markdown",
   "metadata": {
    "id": "m5_yWwrODSFI"
   },
   "source": [
    "#Data Exploration"
   ]
  },
  {
   "cell_type": "markdown",
   "metadata": {
    "id": "S6vZNRi91vMs"
   },
   "source": [
    "##Data Processing"
   ]
  },
  {
   "cell_type": "code",
   "execution_count": 5,
   "metadata": {
    "id": "Z6p70r9Rot8Q"
   },
   "outputs": [],
   "source": [
    "def process_date_attributes(data):\n",
    "    data[\"publish_time\"] = pd.to_datetime(data[\"publish_time\"])\n",
    "    data[\"trending_date\"] = pd.to_datetime(data[\"trending_date\"],format=\"%y.%d.%m\")\n",
    "    data[\"trend_year\"]=data[\"trending_date\"].apply(lambda time:time.year)\n",
    "    data[\"trend_date\"] = data[\"trending_date\"].apply(lambda time: time.day)\n",
    "    data[\"trend_month\"]=data[\"trending_date\"].apply(lambda time:time.month)\n",
    "    data[\"publish_year\"]=data[\"publish_time\"].apply(lambda time:time.year)\n",
    "    data[\"publish_month\"]=data[\"publish_time\"].apply(lambda time:time.month)\n",
    "    data[\"publish_day\"]=data[\"publish_time\"].apply(lambda time:time.day)\n",
    "    data[\"publish_weekday\"]=data[\"publish_time\"].apply(lambda time:time.dayofweek)\n",
    "    data[\"publish_hour\"]=data[\"publish_time\"].apply(lambda time:time.hour)\n",
    "    return data"
   ]
  },
  {
   "cell_type": "code",
   "execution_count": 6,
   "metadata": {
    "id": "m_VzmTLBBdn2"
   },
   "outputs": [],
   "source": [
    "def match_categories(x,dictionary): #function to get the categories\n",
    "    try:\n",
    "        return dictionary[str(x)]\n",
    "    except:\n",
    "        return \"Unknown\""
   ]
  },
  {
   "cell_type": "markdown",
   "metadata": {
    "id": "k-OkorSq10s1"
   },
   "source": [
    "##Data Cleaning"
   ]
  },
  {
   "cell_type": "code",
   "execution_count": 7,
   "metadata": {
    "id": "3mpQIOPz10Ws"
   },
   "outputs": [],
   "source": [
    "def data_cleaning(data):\n",
    "    if data['description'].isnull().sum()>0:\n",
    "        data['description'] = data['description'].replace(np.nan,\"\") #Replacing the NaN values in the \"Description\" column with an empty string\n",
    "    data = data.sort_values('video_id').drop_duplicates(subset=['trending_date', 'title'], keep='last')\n",
    "    data = data.drop(columns=[\"publish_time\",\"category_id\"],axis=1)\n",
    "    return data"
   ]
  },
  {
   "cell_type": "markdown",
   "metadata": {
    "id": "f-bO_ZZl5wxq"
   },
   "source": [
    "##Loading the datasets"
   ]
  },
  {
   "cell_type": "code",
   "execution_count": 8,
   "metadata": {
    "id": "bNTt_yKxbf1O"
   },
   "outputs": [],
   "source": [
    "def load_data(file_path): \n",
    "    ch_file=file_path\n",
    "    Country_code = ch_file[0:2]\n",
    "    path=os.path.join(dir,ch_file)\n",
    "    input_df=pd.read_csv(path,encoding='utf-8')\n",
    "    title_dict={}\n",
    "    json_path=os.path.join(dir,(Country_code+str('_category_id.json')))\n",
    "    json_input_df=pd.read_json(json_path)\n",
    "    input_df['region']=Country_code\n",
    "    for dict_a in json_input_df['items']:\n",
    "        title_dict[dict_a['id']]=dict_a['snippet']['title'] \n",
    "    input_df = process_date_attributes(input_df) #Calling the function to process the date columns.\n",
    "    input_df['category']=input_df['category_id'].apply(match_categories,args=(title_dict,))\n",
    "    input_df = data_cleaning(input_df)\n",
    "    return input_df"
   ]
  },
  {
   "cell_type": "code",
   "execution_count": 9,
   "metadata": {
    "colab": {
     "base_uri": "https://localhost:8080/",
     "height": 202
    },
    "id": "vYhLfsK1fMDy",
    "outputId": "bb5fa477-6dfc-47e3-e206-0c99b7cb01df"
   },
   "outputs": [
    {
     "data": {
      "text/html": [
       "<style>\n",
       "      #output-body {\n",
       "        display: flex;\n",
       "        align-items: center;\n",
       "        justify-content: center;\n",
       "        background-color:white;\n",
       "        color:black;\n",
       "        }\n",
       "      .output_text pre{\n",
       "        margin-right : 70px;\n",
       "        color: black;\n",
       "        font-weight: bold;\n",
       "        /* font-size: 10px; */\n",
       "      }\n",
       "\n",
       "    }  </style>"
      ],
      "text/plain": [
       "<IPython.core.display.HTML object>"
      ]
     },
     "metadata": {},
     "output_type": "display_data"
    },
    {
     "name": "stdout",
     "output_type": "stream",
     "text": [
      "................................\n",
      "------Created CA DataFrame------\n",
      "------Created DE DataFrame------\n",
      "------Created FR DataFrame------\n",
      "------Created GB DataFrame------\n",
      "------Created IN DataFrame------\n",
      "------Created US DataFrame------\n",
      "Processed all available Datasets\n",
      "................................\n",
      "tdf  is the cumulative DataFrame\n"
     ]
    }
   ],
   "source": [
    "set_css()\n",
    "con_list = []\n",
    "con_dict = {}\n",
    "t_list = []\n",
    "t_df = pd.DataFrame()\n",
    "for dirname, _, filenames in os.walk(dir):\n",
    "    print(\"................................\")\n",
    "    for paths in filenames:\n",
    "        if paths.lower().endswith(\".csv\"):\n",
    "            con_list.append(paths[0:2])\n",
    "            x = load_data(paths)\n",
    "            t_list.append(x)\n",
    "            x = x.drop(columns=['video_id','region'],axis=1)\n",
    "            globals()[str(paths[0:2])] = x\n",
    "            con_dict[str(paths[0:2])]=x\n",
    "            print(\"------Created\",paths[0:2],\"DataFrame------\")\n",
    "    print(\"Processed all available Datasets\")\n",
    "t_df = pd.concat(t_list,ignore_index=True)\n",
    "tdf = t_df\n",
    "tdf.name = \"The 6 Countries\"\n",
    "print(\"................................\")\n",
    "print(\"tdf  is the cumulative DataFrame\")"
   ]
  },
  {
   "cell_type": "code",
   "execution_count": 10,
   "metadata": {
    "scrolled": true
   },
   "outputs": [
    {
     "data": {
      "text/html": [
       "<div>\n",
       "<style scoped>\n",
       "    .dataframe tbody tr th:only-of-type {\n",
       "        vertical-align: middle;\n",
       "    }\n",
       "\n",
       "    .dataframe tbody tr th {\n",
       "        vertical-align: top;\n",
       "    }\n",
       "\n",
       "    .dataframe thead th {\n",
       "        text-align: right;\n",
       "    }\n",
       "</style>\n",
       "<table border=\"1\" class=\"dataframe\">\n",
       "  <thead>\n",
       "    <tr style=\"text-align: right;\">\n",
       "      <th></th>\n",
       "      <th>video_id</th>\n",
       "      <th>trending_date</th>\n",
       "      <th>title</th>\n",
       "      <th>channel_title</th>\n",
       "      <th>tags</th>\n",
       "      <th>views</th>\n",
       "      <th>likes</th>\n",
       "      <th>dislikes</th>\n",
       "      <th>comment_count</th>\n",
       "      <th>thumbnail_link</th>\n",
       "      <th>...</th>\n",
       "      <th>region</th>\n",
       "      <th>trend_year</th>\n",
       "      <th>trend_date</th>\n",
       "      <th>trend_month</th>\n",
       "      <th>publish_year</th>\n",
       "      <th>publish_month</th>\n",
       "      <th>publish_day</th>\n",
       "      <th>publish_weekday</th>\n",
       "      <th>publish_hour</th>\n",
       "      <th>category</th>\n",
       "    </tr>\n",
       "  </thead>\n",
       "  <tbody>\n",
       "    <tr>\n",
       "      <th>0</th>\n",
       "      <td>--45ws7CEN0</td>\n",
       "      <td>2018-06-12</td>\n",
       "      <td>PlayStation E3 2018 Showcase | English</td>\n",
       "      <td>PlayStation Europe</td>\n",
       "      <td>playstation|\"playstation 4\"|\"playstation europ...</td>\n",
       "      <td>309197</td>\n",
       "      <td>3837</td>\n",
       "      <td>516</td>\n",
       "      <td>278</td>\n",
       "      <td>https://i.ytimg.com/vi/--45ws7CEN0/default.jpg</td>\n",
       "      <td>...</td>\n",
       "      <td>CA</td>\n",
       "      <td>2018</td>\n",
       "      <td>12</td>\n",
       "      <td>6</td>\n",
       "      <td>2018</td>\n",
       "      <td>6</td>\n",
       "      <td>12</td>\n",
       "      <td>1</td>\n",
       "      <td>3</td>\n",
       "      <td>Gaming</td>\n",
       "    </tr>\n",
       "    <tr>\n",
       "      <th>1</th>\n",
       "      <td>--7vNbh4UNA</td>\n",
       "      <td>2018-04-14</td>\n",
       "      <td>Responding to ALL The Outrage, Ridiculous H3H3...</td>\n",
       "      <td>Philip DeFranco</td>\n",
       "      <td>Elizabeth Hurley|\"Instagram\"|\"Outrage\"|\"scanda...</td>\n",
       "      <td>1082647</td>\n",
       "      <td>52114</td>\n",
       "      <td>1284</td>\n",
       "      <td>10602</td>\n",
       "      <td>https://i.ytimg.com/vi/--7vNbh4UNA/default.jpg</td>\n",
       "      <td>...</td>\n",
       "      <td>CA</td>\n",
       "      <td>2018</td>\n",
       "      <td>14</td>\n",
       "      <td>4</td>\n",
       "      <td>2018</td>\n",
       "      <td>4</td>\n",
       "      <td>13</td>\n",
       "      <td>4</td>\n",
       "      <td>19</td>\n",
       "      <td>News &amp; Politics</td>\n",
       "    </tr>\n",
       "    <tr>\n",
       "      <th>2</th>\n",
       "      <td>--7vNbh4UNA</td>\n",
       "      <td>2018-04-15</td>\n",
       "      <td>Responding to ALL The Outrage, Ridiculous H3H3...</td>\n",
       "      <td>Philip DeFranco</td>\n",
       "      <td>Elizabeth Hurley|\"Instagram\"|\"Outrage\"|\"scanda...</td>\n",
       "      <td>1266423</td>\n",
       "      <td>58110</td>\n",
       "      <td>1504</td>\n",
       "      <td>11732</td>\n",
       "      <td>https://i.ytimg.com/vi/--7vNbh4UNA/default.jpg</td>\n",
       "      <td>...</td>\n",
       "      <td>CA</td>\n",
       "      <td>2018</td>\n",
       "      <td>15</td>\n",
       "      <td>4</td>\n",
       "      <td>2018</td>\n",
       "      <td>4</td>\n",
       "      <td>13</td>\n",
       "      <td>4</td>\n",
       "      <td>19</td>\n",
       "      <td>News &amp; Politics</td>\n",
       "    </tr>\n",
       "    <tr>\n",
       "      <th>3</th>\n",
       "      <td>--7vNbh4UNA</td>\n",
       "      <td>2018-04-16</td>\n",
       "      <td>Responding to ALL The Outrage, Ridiculous H3H3...</td>\n",
       "      <td>Philip DeFranco</td>\n",
       "      <td>Elizabeth Hurley|\"Instagram\"|\"Outrage\"|\"scanda...</td>\n",
       "      <td>1335225</td>\n",
       "      <td>60694</td>\n",
       "      <td>1576</td>\n",
       "      <td>10150</td>\n",
       "      <td>https://i.ytimg.com/vi/--7vNbh4UNA/default.jpg</td>\n",
       "      <td>...</td>\n",
       "      <td>CA</td>\n",
       "      <td>2018</td>\n",
       "      <td>16</td>\n",
       "      <td>4</td>\n",
       "      <td>2018</td>\n",
       "      <td>4</td>\n",
       "      <td>13</td>\n",
       "      <td>4</td>\n",
       "      <td>19</td>\n",
       "      <td>News &amp; Politics</td>\n",
       "    </tr>\n",
       "    <tr>\n",
       "      <th>4</th>\n",
       "      <td>--MtKsH5oBY</td>\n",
       "      <td>2018-06-01</td>\n",
       "      <td>صحفي بين سبورت يكشف تفاصيل و كواليس استقالة زي...</td>\n",
       "      <td>RedsTech</td>\n",
       "      <td>RedsTech|\"bein sports\"|\"ريال مدريد\"|\"real madr...</td>\n",
       "      <td>511042</td>\n",
       "      <td>3517</td>\n",
       "      <td>372</td>\n",
       "      <td>767</td>\n",
       "      <td>https://i.ytimg.com/vi/--MtKsH5oBY/default.jpg</td>\n",
       "      <td>...</td>\n",
       "      <td>CA</td>\n",
       "      <td>2018</td>\n",
       "      <td>1</td>\n",
       "      <td>6</td>\n",
       "      <td>2018</td>\n",
       "      <td>5</td>\n",
       "      <td>31</td>\n",
       "      <td>3</td>\n",
       "      <td>12</td>\n",
       "      <td>Sports</td>\n",
       "    </tr>\n",
       "  </tbody>\n",
       "</table>\n",
       "<p>5 rows × 24 columns</p>\n",
       "</div>"
      ],
      "text/plain": [
       "      video_id trending_date  \\\n",
       "0  --45ws7CEN0    2018-06-12   \n",
       "1  --7vNbh4UNA    2018-04-14   \n",
       "2  --7vNbh4UNA    2018-04-15   \n",
       "3  --7vNbh4UNA    2018-04-16   \n",
       "4  --MtKsH5oBY    2018-06-01   \n",
       "\n",
       "                                               title       channel_title  \\\n",
       "0             PlayStation E3 2018 Showcase | English  PlayStation Europe   \n",
       "1  Responding to ALL The Outrage, Ridiculous H3H3...     Philip DeFranco   \n",
       "2  Responding to ALL The Outrage, Ridiculous H3H3...     Philip DeFranco   \n",
       "3  Responding to ALL The Outrage, Ridiculous H3H3...     Philip DeFranco   \n",
       "4  صحفي بين سبورت يكشف تفاصيل و كواليس استقالة زي...            RedsTech   \n",
       "\n",
       "                                                tags    views  likes  \\\n",
       "0  playstation|\"playstation 4\"|\"playstation europ...   309197   3837   \n",
       "1  Elizabeth Hurley|\"Instagram\"|\"Outrage\"|\"scanda...  1082647  52114   \n",
       "2  Elizabeth Hurley|\"Instagram\"|\"Outrage\"|\"scanda...  1266423  58110   \n",
       "3  Elizabeth Hurley|\"Instagram\"|\"Outrage\"|\"scanda...  1335225  60694   \n",
       "4  RedsTech|\"bein sports\"|\"ريال مدريد\"|\"real madr...   511042   3517   \n",
       "\n",
       "   dislikes  comment_count                                  thumbnail_link  \\\n",
       "0       516            278  https://i.ytimg.com/vi/--45ws7CEN0/default.jpg   \n",
       "1      1284          10602  https://i.ytimg.com/vi/--7vNbh4UNA/default.jpg   \n",
       "2      1504          11732  https://i.ytimg.com/vi/--7vNbh4UNA/default.jpg   \n",
       "3      1576          10150  https://i.ytimg.com/vi/--7vNbh4UNA/default.jpg   \n",
       "4       372            767  https://i.ytimg.com/vi/--MtKsH5oBY/default.jpg   \n",
       "\n",
       "   ...  region  trend_year  trend_date trend_month publish_year  \\\n",
       "0  ...      CA        2018          12           6         2018   \n",
       "1  ...      CA        2018          14           4         2018   \n",
       "2  ...      CA        2018          15           4         2018   \n",
       "3  ...      CA        2018          16           4         2018   \n",
       "4  ...      CA        2018           1           6         2018   \n",
       "\n",
       "   publish_month  publish_day  publish_weekday  publish_hour         category  \n",
       "0              6           12                1             3           Gaming  \n",
       "1              4           13                4            19  News & Politics  \n",
       "2              4           13                4            19  News & Politics  \n",
       "3              4           13                4            19  News & Politics  \n",
       "4              5           31                3            12           Sports  \n",
       "\n",
       "[5 rows x 24 columns]"
      ]
     },
     "execution_count": 10,
     "metadata": {},
     "output_type": "execute_result"
    }
   ],
   "source": [
    "t_df.head()"
   ]
  },
  {
   "cell_type": "code",
   "execution_count": 11,
   "metadata": {
    "id": "EauET5Zs2jGU"
   },
   "outputs": [],
   "source": [
    "def get_unique_categ(data):\n",
    "    cat_x = data['category'].unique()\n",
    "    cat_y = list(cat_x)\n",
    "    if \"Unknown\" in cat_y:\n",
    "        cat_y.remove('Unknown')\n",
    "    dictc = {}\n",
    "    for i in range(0,len(cat_y)):\n",
    "        dictc[i] = cat_y[i]\n",
    "    return dictc,cat_x\n",
    "# dict_cat,cat_x = get_unique_categ(tdf)"
   ]
  },
  {
   "cell_type": "code",
   "execution_count": null,
   "metadata": {
    "id": "w1Y_ytZWio4R"
   },
   "outputs": [],
   "source": []
  },
  {
   "cell_type": "code",
   "execution_count": null,
   "metadata": {},
   "outputs": [],
   "source": []
  }
 ],
 "metadata": {
  "colab": {
   "name": "DA_category_prediction.ipynb",
   "provenance": []
  },
  "kernelspec": {
   "display_name": "Python 3 (ipykernel)",
   "language": "python",
   "name": "python3"
  },
  "language_info": {
   "codemirror_mode": {
    "name": "ipython",
    "version": 3
   },
   "file_extension": ".py",
   "mimetype": "text/x-python",
   "name": "python",
   "nbconvert_exporter": "python",
   "pygments_lexer": "ipython3",
   "version": "3.9.12"
  }
 },
 "nbformat": 4,
 "nbformat_minor": 1
}
